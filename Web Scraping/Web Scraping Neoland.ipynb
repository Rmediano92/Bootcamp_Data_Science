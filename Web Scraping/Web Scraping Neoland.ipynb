{
 "cells": [
  {
   "cell_type": "code",
   "execution_count": 9,
   "metadata": {},
   "outputs": [],
   "source": [
    "import pandas as pd\n",
    "import requests\n",
    "from bs4 import BeautifulSoup\n",
    "import time"
   ]
  },
  {
   "cell_type": "code",
   "execution_count": 11,
   "metadata": {},
   "outputs": [
    {
     "name": "stdout",
     "output_type": "stream",
     "text": [
      "True\n"
     ]
    }
   ],
   "source": [
    "url = \"https://www.neoland.es/data-science-bootcamp\"\n",
    "\n",
    "response = requests.get(url,  headers={'User-Agent': 'Mozilla/5.0'})\n",
    "print(bool(response))\n",
    "soup = BeautifulSoup(response.text, \"html.parser\")"
   ]
  },
  {
   "cell_type": "code",
   "execution_count": 12,
   "metadata": {},
   "outputs": [
    {
     "name": "stdout",
     "output_type": "stream",
     "text": [
      "DATA SCIENCE BOOTCAMP\n"
     ]
    }
   ],
   "source": [
    "titulo = soup.find('h1', attrs={'style':'text-align: center;'}).text\n",
    "if 'bootcamp' in titulo.lower():\n",
    "    print(titulo)"
   ]
  },
  {
   "cell_type": "code",
   "execution_count": 26,
   "metadata": {},
   "outputs": [
    {
     "data": {
      "text/plain": [
       "'MADRID'"
      ]
     },
     "execution_count": 26,
     "metadata": {},
     "output_type": "execute_result"
    }
   ],
   "source": [
    "lugar = soup.select_one('span.dropdown-title').text\n",
    "lugar"
   ]
  },
  {
   "cell_type": "markdown",
   "metadata": {},
   "source": [
    "soup.select() --> soup.find_all()\n",
    "soup.select_one() --> soup.find()"
   ]
  },
  {
   "cell_type": "code",
   "execution_count": 27,
   "metadata": {},
   "outputs": [
    {
     "data": {
      "text/plain": [
       "[<p></p>,\n",
       " <p>El Big Data genera enormes cantidades de datos y el Data Science se encarga de convertirlos en información útil para tomar decisiones en las compañías. Por esta razón, esta profesión se ha posicionado como una de las más demandadas por las empresas digitales.</p>,\n",
       " <p></p>,\n",
       " <p></p>,\n",
       " <p>El Data Science Bootcamp está especialmente dirigido a personas a las que les apasione las matemáticas, la estadística o la programación y que quieran aprender todo lo necesario para trabajar en grandes empresas o Startups donde se trabaja intensamente con datos.</p>,\n",
       " <p>Este Bootcamp se imparte en horario Full-Time o Part-Time desde nuestro campus de Madrid y también Online.</p>,\n",
       " <p></p>]"
      ]
     },
     "execution_count": 27,
     "metadata": {},
     "output_type": "execute_result"
    }
   ],
   "source": [
    "intro_ar = soup.find('div', attrs={'class':\"span7 widget-span widget-type-custom_widget bdr pr40 sm-bdr-no sm-pr0 sm-bdb\"}).find_all('p')\n",
    "intro_ar"
   ]
  },
  {
   "cell_type": "code",
   "execution_count": 16,
   "metadata": {},
   "outputs": [
    {
     "data": {
      "text/plain": [
       "' El Big Data genera enormes cantidades de datos y el\\xa0Data Science\\xa0se encarga de convertirlos en información útil para tomar decisiones en las compañías. Por esta razón, esta profesión se ha posicionado como una de las más demandadas por las empresas digitales.   El Data Science Bootcamp está especialmente dirigido a personas a las que les apasione las matemáticas, la estadística o la programación y que quieran aprender todo lo necesario para trabajar en grandes empresas o Startups donde se trabaja intensamente con datos. Este Bootcamp se imparte en horario Full-Time o Part-Time desde nuestro campus de Madrid y también Online.  '"
      ]
     },
     "execution_count": 16,
     "metadata": {},
     "output_type": "execute_result"
    }
   ],
   "source": [
    "intro = ''\n",
    "for i in intro_ar:\n",
    "    intro += i.text\n",
    "    intro += ' '\n",
    "intro"
   ]
  },
  {
   "cell_type": "code",
   "execution_count": 19,
   "metadata": {},
   "outputs": [],
   "source": [
    "nombres_mod = list()\n",
    "for i in soup.find('div', attrs={'id':\"hs_cos_wrapper_module_155540356087194\"}).find_all('h4'):\n",
    "    modulo = i.find('span').text\n",
    "    nombres_mod.append(i.text.replace(modulo, ''))"
   ]
  },
  {
   "cell_type": "code",
   "execution_count": 31,
   "metadata": {},
   "outputs": [
    {
     "data": {
      "text/plain": [
       "{0: 'Introducción y programación básica',\n",
       " 1: 'Fundamentos matemáticos',\n",
       " 2: 'Programación avanzada',\n",
       " 3: 'Big Data Systems',\n",
       " 4: 'Data Mining',\n",
       " 5: 'Machine Learning / Deep Learning'}"
      ]
     },
     "execution_count": 31,
     "metadata": {},
     "output_type": "execute_result"
    }
   ],
   "source": [
    "modulos = dict()\n",
    "for i,j in enumerate(nombres_mod):\n",
    "    modulos[i] = j\n",
    "modulos"
   ]
  },
  {
   "cell_type": "code",
   "execution_count": 36,
   "metadata": {},
   "outputs": [
    {
     "data": {
      "text/html": [
       "<div>\n",
       "<style scoped>\n",
       "    .dataframe tbody tr th:only-of-type {\n",
       "        vertical-align: middle;\n",
       "    }\n",
       "\n",
       "    .dataframe tbody tr th {\n",
       "        vertical-align: top;\n",
       "    }\n",
       "\n",
       "    .dataframe thead th {\n",
       "        text-align: right;\n",
       "    }\n",
       "</style>\n",
       "<table border=\"1\" class=\"dataframe\">\n",
       "  <thead>\n",
       "    <tr style=\"text-align: right;\">\n",
       "      <th></th>\n",
       "      <th>titulo</th>\n",
       "      <th>localizacion</th>\n",
       "      <th>intro</th>\n",
       "      <th>contenido</th>\n",
       "    </tr>\n",
       "  </thead>\n",
       "  <tbody>\n",
       "    <tr>\n",
       "      <th>0</th>\n",
       "      <td>DATA SCIENCE BOOTCAMP</td>\n",
       "      <td>MADRID</td>\n",
       "      <td>El Big Data genera enormes cantidades de datos...</td>\n",
       "      <td>[Introducción y programación básica, Fundament...</td>\n",
       "    </tr>\n",
       "  </tbody>\n",
       "</table>\n",
       "</div>"
      ],
      "text/plain": [
       "                  titulo localizacion  \\\n",
       "0  DATA SCIENCE BOOTCAMP       MADRID   \n",
       "\n",
       "                                               intro  \\\n",
       "0  El Big Data genera enormes cantidades de datos...   \n",
       "\n",
       "                                           contenido  \n",
       "0  [Introducción y programación básica, Fundament...  "
      ]
     },
     "execution_count": 36,
     "metadata": {},
     "output_type": "execute_result"
    }
   ],
   "source": [
    "df = pd.DataFrame(columns=['titulo', 'localizacion', 'intro', 'contenido'])\n",
    "df.loc[0,'titulo'] = titulo\n",
    "df.loc[0,'localizacion'] = lugar\n",
    "df.loc[0,'intro'] = intro.strip()\n",
    "df.loc[0, 'contenido'] = list(modulos.values())\n",
    "df"
   ]
  }
 ],
 "metadata": {
  "kernelspec": {
   "display_name": "Python 3",
   "language": "python",
   "name": "python3"
  },
  "language_info": {
   "codemirror_mode": {
    "name": "ipython",
    "version": 3
   },
   "file_extension": ".py",
   "mimetype": "text/x-python",
   "name": "python",
   "nbconvert_exporter": "python",
   "pygments_lexer": "ipython3",
   "version": "3.8.5"
  }
 },
 "nbformat": 4,
 "nbformat_minor": 4
}
