{
 "cells": [
  {
   "cell_type": "code",
   "execution_count": 1,
   "metadata": {},
   "outputs": [],
   "source": [
    "import pandas as pd\n",
    "import requests\n",
    "from bs4 import BeautifulSoup\n",
    "import time\n",
    "import numpy as np"
   ]
  },
  {
   "cell_type": "code",
   "execution_count": 2,
   "metadata": {},
   "outputs": [
    {
     "name": "stdout",
     "output_type": "stream",
     "text": [
      "True\n"
     ]
    }
   ],
   "source": [
    "url = \"https://www.carrefour.es/supermercado/el-mercado/quesos/todos-los-quesos/N-ndzi6a/c?No=0&Nr%3DAND(product.shopCodes%3A004320%2Cproduct.salepointWithActivePrice_004320%3A1%2COR(product.siteId%3AbasicSite))OR)\"\n",
    "\n",
    "response = requests.get(url,  headers={'User-Agent': 'mozilla/5.0'})\n",
    "print(bool(response))\n",
    "soup = BeautifulSoup(response.text, \"html.parser\")"
   ]
  },
  {
   "cell_type": "code",
   "execution_count": 4,
   "metadata": {},
   "outputs": [
    {
     "data": {
      "text/plain": [
       "24"
      ]
     },
     "execution_count": 4,
     "metadata": {},
     "output_type": "execute_result"
    }
   ],
   "source": [
    "len(soup.find_all(\"div\", class_=\"product-card\"))"
   ]
  },
  {
   "cell_type": "code",
   "execution_count": 5,
   "metadata": {},
   "outputs": [],
   "source": [
    "productos = soup.find_all(\"div\", class_=\"product-card\")"
   ]
  },
  {
   "cell_type": "code",
   "execution_count": 7,
   "metadata": {},
   "outputs": [
    {
     "data": {
      "text/plain": [
       "<div class=\"product-card\"><!-- --><div class=\"product-card__media\"><a class=\"product-card__media-link track-click\" data-bu=\"nn\" data-position=\"1\" href=\"/supermercado/queso-mozzarella-rallada-carrefour-200-g-carrefour/R-521030768/p\"><img alt=\"Queso mozzarella  rallada Carrefour 200 g.\" class=\"product-card__image\" src=\"https://static.carrefour.es/hd_350x_/img_pim_food/710785_00_1.jpg\"/></a></div><div class=\"product-card__detail\"><div class=\"product-card__prices-container\"><div class=\"product-card__prices\"><span class=\"product-card__price--strikethrough\">\n",
       "            1,20 €\n",
       "          </span><span class=\"product-card__price--current\">\n",
       "            1,17 €\n",
       "          </span></div><div class=\"product-card__price-per-unit--container\"><div class=\"product-card__price-per-unit--strikethrough-container\"><span class=\"product-card__price-per-unit--strikethrough\">\n",
       "              6,00 €/kg\n",
       "            </span><span> | </span></div><span class=\"product-card__price-per-unit\">\n",
       "            5,85 €/kg\n",
       "          </span></div></div><h2 class=\"product-card__title\"><a class=\"link product-card__title-link track-click\" data-bu=\"nn\" data-position=\"1\" href=\"/supermercado/queso-mozzarella-rallada-carrefour-200-g-carrefour/R-521030768/p\">\n",
       "          Queso mozzarella  rallada Carrefour 200 g.\n",
       "        </a></h2><!-- --><!-- --><!-- --><!-- --><!-- --><div class=\"product-card__availability product-card__availability--mobile\"><!-- --><!-- --><div data-theme=\"food\"><div class=\"add-to-cart-button\"><!-- --><button class=\"add-to-cart-button__full-button add-to-cart-button__button\">\n",
       "      Añadir\n",
       "    </button></div></div></div></div><div class=\"product-card__footer\"><!-- --><div class=\"product-card__availability\"><!-- --><div data-theme=\"food\"><div class=\"add-to-cart-button\"><!-- --><button class=\"add-to-cart-button__full-button add-to-cart-button__button\">\n",
       "      Añadir\n",
       "    </button></div></div></div></div></div>"
      ]
     },
     "execution_count": 7,
     "metadata": {},
     "output_type": "execute_result"
    }
   ],
   "source": [
    "productos[1]"
   ]
  },
  {
   "cell_type": "code",
   "execution_count": 16,
   "metadata": {},
   "outputs": [
    {
     "data": {
      "text/plain": [
       "'1,17 €'"
      ]
     },
     "execution_count": 16,
     "metadata": {},
     "output_type": "execute_result"
    }
   ],
   "source": [
    "productos[1].find(\"div\",class_=\"product-card__prices\").find_all(\"span\")[1].text.strip()"
   ]
  },
  {
   "cell_type": "code",
   "execution_count": 22,
   "metadata": {},
   "outputs": [
    {
     "data": {
      "text/plain": [
       "['3,10 €']"
      ]
     },
     "execution_count": 22,
     "metadata": {},
     "output_type": "execute_result"
    }
   ],
   "source": [
    "[i.text.strip() for i in productos[0].find(\"div\",class_=\"product-card__prices\").find_all(\"span\")]"
   ]
  },
  {
   "cell_type": "code",
   "execution_count": 23,
   "metadata": {},
   "outputs": [
    {
     "data": {
      "text/plain": [
       "[['3,10 €', nan],\n",
       " ['1,20 €', '1,17 €'],\n",
       " ['1,13 €', nan],\n",
       " ['1,13 €', '0,99 €'],\n",
       " ['1,76 €', nan],\n",
       " ['0,78 €', nan],\n",
       " ['1,37 €', nan],\n",
       " ['1,87 €', '1,75 €'],\n",
       " ['1,13 €', '0,99 €'],\n",
       " ['1,65 €', nan],\n",
       " ['0,99 €', nan],\n",
       " ['2,10 €', nan],\n",
       " ['1,45 €', nan],\n",
       " ['0,99 €', nan],\n",
       " ['1,51 €', nan],\n",
       " ['1,90 €', nan],\n",
       " ['4,15 €', nan],\n",
       " ['1,65 €', nan],\n",
       " ['1,55 €', nan],\n",
       " ['1,25 €', '0,99 €'],\n",
       " ['3,99 €', nan],\n",
       " ['1,43 €', nan],\n",
       " ['2,99 €', nan],\n",
       " ['2,25 €', nan]]"
      ]
     },
     "execution_count": 23,
     "metadata": {},
     "output_type": "execute_result"
    }
   ],
   "source": [
    "precios=[]\n",
    "for j in productos:\n",
    "    precio=[i.text.strip() for i in j.find(\"div\",class_=\"product-card__prices\").find_all(\"span\")]\n",
    "    if len(precio)>1:\n",
    "        precios.append(precio)    \n",
    "    else:\n",
    "        precios.append(precio+[np.nan])\n",
    "precios"
   ]
  },
  {
   "cell_type": "code",
   "execution_count": 25,
   "metadata": {},
   "outputs": [
    {
     "data": {
      "text/plain": [
       "<div class=\"product-card\"><!-- --><div class=\"product-card__media\"><a class=\"product-card__media-link track-click\" data-bu=\"nn\" data-position=\"1\" href=\"/supermercado/queso-mozzarella-rallada-carrefour-200-g-carrefour/R-521030768/p\"><img alt=\"Queso mozzarella  rallada Carrefour 200 g.\" class=\"product-card__image\" src=\"https://static.carrefour.es/hd_350x_/img_pim_food/710785_00_1.jpg\"/></a></div><div class=\"product-card__detail\"><div class=\"product-card__prices-container\"><div class=\"product-card__prices\"><span class=\"product-card__price--strikethrough\">\n",
       "            1,20 €\n",
       "          </span><span class=\"product-card__price--current\">\n",
       "            1,17 €\n",
       "          </span></div><div class=\"product-card__price-per-unit--container\"><div class=\"product-card__price-per-unit--strikethrough-container\"><span class=\"product-card__price-per-unit--strikethrough\">\n",
       "              6,00 €/kg\n",
       "            </span><span> | </span></div><span class=\"product-card__price-per-unit\">\n",
       "            5,85 €/kg\n",
       "          </span></div></div><h2 class=\"product-card__title\"><a class=\"link product-card__title-link track-click\" data-bu=\"nn\" data-position=\"1\" href=\"/supermercado/queso-mozzarella-rallada-carrefour-200-g-carrefour/R-521030768/p\">\n",
       "          Queso mozzarella  rallada Carrefour 200 g.\n",
       "        </a></h2><!-- --><!-- --><!-- --><!-- --><!-- --><div class=\"product-card__availability product-card__availability--mobile\"><!-- --><!-- --><div data-theme=\"food\"><div class=\"add-to-cart-button\"><!-- --><button class=\"add-to-cart-button__full-button add-to-cart-button__button\">\n",
       "      Añadir\n",
       "    </button></div></div></div></div><div class=\"product-card__footer\"><!-- --><div class=\"product-card__availability\"><!-- --><div data-theme=\"food\"><div class=\"add-to-cart-button\"><!-- --><button class=\"add-to-cart-button__full-button add-to-cart-button__button\">\n",
       "      Añadir\n",
       "    </button></div></div></div></div></div>"
      ]
     },
     "execution_count": 25,
     "metadata": {},
     "output_type": "execute_result"
    }
   ],
   "source": [
    "productos[1]"
   ]
  },
  {
   "cell_type": "code",
   "execution_count": 29,
   "metadata": {},
   "outputs": [
    {
     "data": {
      "text/plain": [
       "['6,00 €/kg', '|', '5,85 €/kg']"
      ]
     },
     "execution_count": 29,
     "metadata": {},
     "output_type": "execute_result"
    }
   ],
   "source": [
    "te = [i.text.strip() for i  in productos[1].find(\"div\",class_=\"product-card__price-per-unit--container\").find_all(\"span\")]\n",
    "te"
   ]
  },
  {
   "cell_type": "code",
   "execution_count": 30,
   "metadata": {},
   "outputs": [
    {
     "data": {
      "text/plain": [
       "[['15,50 €/kg', nan],\n",
       " ['6,00 €/kg', '5,85 €/kg'],\n",
       " ['5,65 €/kg', nan],\n",
       " ['5,65 €/kg', '4,95 €/kg'],\n",
       " ['8,80 €/kg', nan],\n",
       " ['6,24 €/kg', nan],\n",
       " ['3,43 €/kg', nan],\n",
       " ['18,70 €/kg', '17,50 €/kg'],\n",
       " ['5,65 €/kg', '4,95 €/kg'],\n",
       " ['8,25 €/kg', nan],\n",
       " ['3,30 €/kg', nan],\n",
       " ['11,67 €/kg', nan],\n",
       " ['14,50 €/kg', nan],\n",
       " ['3,96 €/kg', nan],\n",
       " ['7,55 €/kg', nan],\n",
       " ['9,50 €/kg', nan],\n",
       " ['8,30 €/kg', nan],\n",
       " ['8,25 €/kg', nan],\n",
       " ['7,75 €/kg', nan],\n",
       " ['12,50 €/kg', '9,90 €/kg'],\n",
       " ['16,62 €/kg', nan],\n",
       " ['11,44 €/kg', nan],\n",
       " ['7,97 €/kg', nan],\n",
       " ['9,00 €/kg', nan]]"
      ]
     },
     "execution_count": 30,
     "metadata": {},
     "output_type": "execute_result"
    }
   ],
   "source": [
    "precioskg=[]\n",
    "for j in productos:\n",
    "    preciokg=[i.text.strip() for i  in j.find(\"div\",class_=\"product-card__price-per-unit--container\").find_all(\"span\")]\n",
    "    if len(preciokg)>2:\n",
    "        preciokg.pop(1)\n",
    "        precioskg.append(preciokg)    \n",
    "    else:\n",
    "        precioskg.append(preciokg+[np.nan])\n",
    "precioskg"
   ]
  },
  {
   "cell_type": "code",
   "execution_count": 36,
   "metadata": {},
   "outputs": [
    {
     "data": {
      "text/plain": [
       "'Lonchas veganas sabor queso Violife 200 g.'"
      ]
     },
     "execution_count": 36,
     "metadata": {},
     "output_type": "execute_result"
    }
   ],
   "source": [
    "productos[0].find(\"h2\").text.strip()"
   ]
  },
  {
   "cell_type": "code",
   "execution_count": 37,
   "metadata": {},
   "outputs": [
    {
     "data": {
      "text/plain": [
       "['Lonchas veganas sabor queso Violife 200 g.',\n",
       " 'Queso mozzarella  rallada Carrefour 200 g.',\n",
       " 'Queso rallado emmental Carrefour 200 g.',\n",
       " 'Queso gouda holland en lonchas Carrefour 200 g.',\n",
       " 'Queso rallado cuatro quesos Carrefour 200 g.',\n",
       " 'Queso mozzarella Italiana Carrefour 125 g.',\n",
       " 'Queso fundido en lonchas Carrefour 400 g.',\n",
       " 'Queso rallado parmesano Carrefour 100 g.',\n",
       " 'Queso edam holland en lonchas Carrefour 200 g.',\n",
       " 'Queso havarti en lonchas Carrefour 200 g.',\n",
       " 'Queso de untar Carrefour 300 g.',\n",
       " 'Queso rulo de cabra Carrefour 180 g',\n",
       " 'Queso Roquefort  D.O.P Carrefour cuña 100 g',\n",
       " 'Queso fresco de Burgos Carrefour pack de 4 unidades de 62,5 g.',\n",
       " 'Queso tierno en lonchas Carrefour 200 g.',\n",
       " 'Queso brie 60% M.G Carrefour 200 g',\n",
       " 'Crema de queso de untar natural Philadelphia pack de 2 unidades de 250 g.',\n",
       " 'queso havarti light en lonchas Carrefour 200 g.',\n",
       " 'Queso cheddar en lonchas Carrefour 200 g.',\n",
       " 'Queso rallado en polvo especial pasta El Caserío 100 g.',\n",
       " 'Mini quesitos Babybel pack de 12 unidades de 20 g.',\n",
       " 'Queso mozzarella Italiana Galbani 125 g.',\n",
       " 'Queso en porciones La Vaca que ríe 375 g.',\n",
       " 'Queso emmental taco Carrefour 250 g']"
      ]
     },
     "execution_count": 37,
     "metadata": {},
     "output_type": "execute_result"
    }
   ],
   "source": [
    "titulos = [i.find(\"h2\").text.strip() for i in productos]\n",
    "titulos"
   ]
  },
  {
   "cell_type": "code",
   "execution_count": 38,
   "metadata": {},
   "outputs": [
    {
     "data": {
      "text/html": [
       "<div>\n",
       "<style scoped>\n",
       "    .dataframe tbody tr th:only-of-type {\n",
       "        vertical-align: middle;\n",
       "    }\n",
       "\n",
       "    .dataframe tbody tr th {\n",
       "        vertical-align: top;\n",
       "    }\n",
       "\n",
       "    .dataframe thead th {\n",
       "        text-align: right;\n",
       "    }\n",
       "</style>\n",
       "<table border=\"1\" class=\"dataframe\">\n",
       "  <thead>\n",
       "    <tr style=\"text-align: right;\">\n",
       "      <th></th>\n",
       "      <th>Queso</th>\n",
       "      <th>Precio Base</th>\n",
       "      <th>Precio Oferta</th>\n",
       "      <th>Precio x Kg</th>\n",
       "      <th>Precio Oferta x Kg</th>\n",
       "    </tr>\n",
       "  </thead>\n",
       "  <tbody>\n",
       "    <tr>\n",
       "      <th>0</th>\n",
       "      <td>Lonchas veganas sabor queso Violife 200 g.</td>\n",
       "      <td>3,10 €</td>\n",
       "      <td>NaN</td>\n",
       "      <td>15,50 €/kg</td>\n",
       "      <td>NaN</td>\n",
       "    </tr>\n",
       "    <tr>\n",
       "      <th>1</th>\n",
       "      <td>Queso mozzarella  rallada Carrefour 200 g.</td>\n",
       "      <td>1,20 €</td>\n",
       "      <td>1,17 €</td>\n",
       "      <td>6,00 €/kg</td>\n",
       "      <td>5,85 €/kg</td>\n",
       "    </tr>\n",
       "    <tr>\n",
       "      <th>2</th>\n",
       "      <td>Queso rallado emmental Carrefour 200 g.</td>\n",
       "      <td>1,13 €</td>\n",
       "      <td>NaN</td>\n",
       "      <td>5,65 €/kg</td>\n",
       "      <td>NaN</td>\n",
       "    </tr>\n",
       "    <tr>\n",
       "      <th>3</th>\n",
       "      <td>Queso gouda holland en lonchas Carrefour 200 g.</td>\n",
       "      <td>1,13 €</td>\n",
       "      <td>0,99 €</td>\n",
       "      <td>5,65 €/kg</td>\n",
       "      <td>4,95 €/kg</td>\n",
       "    </tr>\n",
       "    <tr>\n",
       "      <th>4</th>\n",
       "      <td>Queso rallado cuatro quesos Carrefour 200 g.</td>\n",
       "      <td>1,76 €</td>\n",
       "      <td>NaN</td>\n",
       "      <td>8,80 €/kg</td>\n",
       "      <td>NaN</td>\n",
       "    </tr>\n",
       "    <tr>\n",
       "      <th>5</th>\n",
       "      <td>Queso mozzarella Italiana Carrefour 125 g.</td>\n",
       "      <td>0,78 €</td>\n",
       "      <td>NaN</td>\n",
       "      <td>6,24 €/kg</td>\n",
       "      <td>NaN</td>\n",
       "    </tr>\n",
       "    <tr>\n",
       "      <th>6</th>\n",
       "      <td>Queso fundido en lonchas Carrefour 400 g.</td>\n",
       "      <td>1,37 €</td>\n",
       "      <td>NaN</td>\n",
       "      <td>3,43 €/kg</td>\n",
       "      <td>NaN</td>\n",
       "    </tr>\n",
       "    <tr>\n",
       "      <th>7</th>\n",
       "      <td>Queso rallado parmesano Carrefour 100 g.</td>\n",
       "      <td>1,87 €</td>\n",
       "      <td>1,75 €</td>\n",
       "      <td>18,70 €/kg</td>\n",
       "      <td>17,50 €/kg</td>\n",
       "    </tr>\n",
       "    <tr>\n",
       "      <th>8</th>\n",
       "      <td>Queso edam holland en lonchas Carrefour 200 g.</td>\n",
       "      <td>1,13 €</td>\n",
       "      <td>0,99 €</td>\n",
       "      <td>5,65 €/kg</td>\n",
       "      <td>4,95 €/kg</td>\n",
       "    </tr>\n",
       "    <tr>\n",
       "      <th>9</th>\n",
       "      <td>Queso havarti en lonchas Carrefour 200 g.</td>\n",
       "      <td>1,65 €</td>\n",
       "      <td>NaN</td>\n",
       "      <td>8,25 €/kg</td>\n",
       "      <td>NaN</td>\n",
       "    </tr>\n",
       "    <tr>\n",
       "      <th>10</th>\n",
       "      <td>Queso de untar Carrefour 300 g.</td>\n",
       "      <td>0,99 €</td>\n",
       "      <td>NaN</td>\n",
       "      <td>3,30 €/kg</td>\n",
       "      <td>NaN</td>\n",
       "    </tr>\n",
       "    <tr>\n",
       "      <th>11</th>\n",
       "      <td>Queso rulo de cabra Carrefour 180 g</td>\n",
       "      <td>2,10 €</td>\n",
       "      <td>NaN</td>\n",
       "      <td>11,67 €/kg</td>\n",
       "      <td>NaN</td>\n",
       "    </tr>\n",
       "    <tr>\n",
       "      <th>12</th>\n",
       "      <td>Queso Roquefort  D.O.P Carrefour cuña 100 g</td>\n",
       "      <td>1,45 €</td>\n",
       "      <td>NaN</td>\n",
       "      <td>14,50 €/kg</td>\n",
       "      <td>NaN</td>\n",
       "    </tr>\n",
       "    <tr>\n",
       "      <th>13</th>\n",
       "      <td>Queso fresco de Burgos Carrefour pack de 4 uni...</td>\n",
       "      <td>0,99 €</td>\n",
       "      <td>NaN</td>\n",
       "      <td>3,96 €/kg</td>\n",
       "      <td>NaN</td>\n",
       "    </tr>\n",
       "    <tr>\n",
       "      <th>14</th>\n",
       "      <td>Queso tierno en lonchas Carrefour 200 g.</td>\n",
       "      <td>1,51 €</td>\n",
       "      <td>NaN</td>\n",
       "      <td>7,55 €/kg</td>\n",
       "      <td>NaN</td>\n",
       "    </tr>\n",
       "    <tr>\n",
       "      <th>15</th>\n",
       "      <td>Queso brie 60% M.G Carrefour 200 g</td>\n",
       "      <td>1,90 €</td>\n",
       "      <td>NaN</td>\n",
       "      <td>9,50 €/kg</td>\n",
       "      <td>NaN</td>\n",
       "    </tr>\n",
       "    <tr>\n",
       "      <th>16</th>\n",
       "      <td>Crema de queso de untar natural Philadelphia p...</td>\n",
       "      <td>4,15 €</td>\n",
       "      <td>NaN</td>\n",
       "      <td>8,30 €/kg</td>\n",
       "      <td>NaN</td>\n",
       "    </tr>\n",
       "    <tr>\n",
       "      <th>17</th>\n",
       "      <td>queso havarti light en lonchas Carrefour 200 g.</td>\n",
       "      <td>1,65 €</td>\n",
       "      <td>NaN</td>\n",
       "      <td>8,25 €/kg</td>\n",
       "      <td>NaN</td>\n",
       "    </tr>\n",
       "    <tr>\n",
       "      <th>18</th>\n",
       "      <td>Queso cheddar en lonchas Carrefour 200 g.</td>\n",
       "      <td>1,55 €</td>\n",
       "      <td>NaN</td>\n",
       "      <td>7,75 €/kg</td>\n",
       "      <td>NaN</td>\n",
       "    </tr>\n",
       "    <tr>\n",
       "      <th>19</th>\n",
       "      <td>Queso rallado en polvo especial pasta El Caser...</td>\n",
       "      <td>1,25 €</td>\n",
       "      <td>0,99 €</td>\n",
       "      <td>12,50 €/kg</td>\n",
       "      <td>9,90 €/kg</td>\n",
       "    </tr>\n",
       "    <tr>\n",
       "      <th>20</th>\n",
       "      <td>Mini quesitos Babybel pack de 12 unidades de 2...</td>\n",
       "      <td>3,99 €</td>\n",
       "      <td>NaN</td>\n",
       "      <td>16,62 €/kg</td>\n",
       "      <td>NaN</td>\n",
       "    </tr>\n",
       "    <tr>\n",
       "      <th>21</th>\n",
       "      <td>Queso mozzarella Italiana Galbani 125 g.</td>\n",
       "      <td>1,43 €</td>\n",
       "      <td>NaN</td>\n",
       "      <td>11,44 €/kg</td>\n",
       "      <td>NaN</td>\n",
       "    </tr>\n",
       "    <tr>\n",
       "      <th>22</th>\n",
       "      <td>Queso en porciones La Vaca que ríe 375 g.</td>\n",
       "      <td>2,99 €</td>\n",
       "      <td>NaN</td>\n",
       "      <td>7,97 €/kg</td>\n",
       "      <td>NaN</td>\n",
       "    </tr>\n",
       "    <tr>\n",
       "      <th>23</th>\n",
       "      <td>Queso emmental taco Carrefour 250 g</td>\n",
       "      <td>2,25 €</td>\n",
       "      <td>NaN</td>\n",
       "      <td>9,00 €/kg</td>\n",
       "      <td>NaN</td>\n",
       "    </tr>\n",
       "  </tbody>\n",
       "</table>\n",
       "</div>"
      ],
      "text/plain": [
       "                                                Queso Precio Base  \\\n",
       "0          Lonchas veganas sabor queso Violife 200 g.      3,10 €   \n",
       "1          Queso mozzarella  rallada Carrefour 200 g.      1,20 €   \n",
       "2             Queso rallado emmental Carrefour 200 g.      1,13 €   \n",
       "3     Queso gouda holland en lonchas Carrefour 200 g.      1,13 €   \n",
       "4        Queso rallado cuatro quesos Carrefour 200 g.      1,76 €   \n",
       "5          Queso mozzarella Italiana Carrefour 125 g.      0,78 €   \n",
       "6           Queso fundido en lonchas Carrefour 400 g.      1,37 €   \n",
       "7            Queso rallado parmesano Carrefour 100 g.      1,87 €   \n",
       "8      Queso edam holland en lonchas Carrefour 200 g.      1,13 €   \n",
       "9           Queso havarti en lonchas Carrefour 200 g.      1,65 €   \n",
       "10                    Queso de untar Carrefour 300 g.      0,99 €   \n",
       "11                Queso rulo de cabra Carrefour 180 g      2,10 €   \n",
       "12        Queso Roquefort  D.O.P Carrefour cuña 100 g      1,45 €   \n",
       "13  Queso fresco de Burgos Carrefour pack de 4 uni...      0,99 €   \n",
       "14           Queso tierno en lonchas Carrefour 200 g.      1,51 €   \n",
       "15                 Queso brie 60% M.G Carrefour 200 g      1,90 €   \n",
       "16  Crema de queso de untar natural Philadelphia p...      4,15 €   \n",
       "17    queso havarti light en lonchas Carrefour 200 g.      1,65 €   \n",
       "18          Queso cheddar en lonchas Carrefour 200 g.      1,55 €   \n",
       "19  Queso rallado en polvo especial pasta El Caser...      1,25 €   \n",
       "20  Mini quesitos Babybel pack de 12 unidades de 2...      3,99 €   \n",
       "21           Queso mozzarella Italiana Galbani 125 g.      1,43 €   \n",
       "22          Queso en porciones La Vaca que ríe 375 g.      2,99 €   \n",
       "23                Queso emmental taco Carrefour 250 g      2,25 €   \n",
       "\n",
       "   Precio Oferta Precio x Kg Precio Oferta x Kg   \n",
       "0            NaN  15,50 €/kg                 NaN  \n",
       "1         1,17 €   6,00 €/kg           5,85 €/kg  \n",
       "2            NaN   5,65 €/kg                 NaN  \n",
       "3         0,99 €   5,65 €/kg           4,95 €/kg  \n",
       "4            NaN   8,80 €/kg                 NaN  \n",
       "5            NaN   6,24 €/kg                 NaN  \n",
       "6            NaN   3,43 €/kg                 NaN  \n",
       "7         1,75 €  18,70 €/kg          17,50 €/kg  \n",
       "8         0,99 €   5,65 €/kg           4,95 €/kg  \n",
       "9            NaN   8,25 €/kg                 NaN  \n",
       "10           NaN   3,30 €/kg                 NaN  \n",
       "11           NaN  11,67 €/kg                 NaN  \n",
       "12           NaN  14,50 €/kg                 NaN  \n",
       "13           NaN   3,96 €/kg                 NaN  \n",
       "14           NaN   7,55 €/kg                 NaN  \n",
       "15           NaN   9,50 €/kg                 NaN  \n",
       "16           NaN   8,30 €/kg                 NaN  \n",
       "17           NaN   8,25 €/kg                 NaN  \n",
       "18           NaN   7,75 €/kg                 NaN  \n",
       "19        0,99 €  12,50 €/kg           9,90 €/kg  \n",
       "20           NaN  16,62 €/kg                 NaN  \n",
       "21           NaN  11,44 €/kg                 NaN  \n",
       "22           NaN   7,97 €/kg                 NaN  \n",
       "23           NaN   9,00 €/kg                 NaN  "
      ]
     },
     "execution_count": 38,
     "metadata": {},
     "output_type": "execute_result"
    }
   ],
   "source": [
    "df = pd.DataFrame()\n",
    "df[\"Queso\"] = titulos\n",
    "df[\"Precio Base\"] = [i[0] for i in precios]\n",
    "df[\"Precio Oferta\"] = [i[1] for i in precios]\n",
    "df[\"Precio x Kg\"] = [i[0] for i in precioskg]\n",
    "df[\"Precio Oferta x Kg \"] = [i[1] for i in precioskg]\n",
    "df"
   ]
  },
  {
   "cell_type": "code",
   "execution_count": 13,
   "metadata": {},
   "outputs": [],
   "source": [
    "#df.to_csv(\"Tablaquesos.csv\", index=False)"
   ]
  },
  {
   "cell_type": "code",
   "execution_count": null,
   "metadata": {},
   "outputs": [],
   "source": []
  }
 ],
 "metadata": {
  "kernelspec": {
   "display_name": "Python 3",
   "language": "python",
   "name": "python3"
  },
  "language_info": {
   "codemirror_mode": {
    "name": "ipython",
    "version": 3
   },
   "file_extension": ".py",
   "mimetype": "text/x-python",
   "name": "python",
   "nbconvert_exporter": "python",
   "pygments_lexer": "ipython3",
   "version": "3.7.6"
  }
 },
 "nbformat": 4,
 "nbformat_minor": 4
}
