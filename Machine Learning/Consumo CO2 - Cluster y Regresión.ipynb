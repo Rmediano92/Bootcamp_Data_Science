{
 "cells": [
  {
   "cell_type": "code",
   "execution_count": 4,
   "metadata": {},
   "outputs": [],
   "source": [
    "import pandas as pd\n",
    "import numpy as np \n",
    "import seaborn as sns\n",
    "import matplotlib.pyplot as plt \n",
    "import seaborn as sns\n",
    "from sklearn import datasets\n",
    "from sklearn.cluster import DBSCAN \n",
    "from sklearn.datasets import make_circles\n",
    "from sklearn.preprocessing import MinMaxScaler"
   ]
  },
  {
   "cell_type": "code",
   "execution_count": 53,
   "metadata": {},
   "outputs": [],
   "source": [
    "df=pd.read_csv(\"FuelConsumptionCo2.csv\")"
   ]
  },
  {
   "cell_type": "code",
   "execution_count": 54,
   "metadata": {},
   "outputs": [
    {
     "data": {
      "text/html": [
       "<div>\n",
       "<style scoped>\n",
       "    .dataframe tbody tr th:only-of-type {\n",
       "        vertical-align: middle;\n",
       "    }\n",
       "\n",
       "    .dataframe tbody tr th {\n",
       "        vertical-align: top;\n",
       "    }\n",
       "\n",
       "    .dataframe thead th {\n",
       "        text-align: right;\n",
       "    }\n",
       "</style>\n",
       "<table border=\"1\" class=\"dataframe\">\n",
       "  <thead>\n",
       "    <tr style=\"text-align: right;\">\n",
       "      <th></th>\n",
       "      <th>MODELYEAR</th>\n",
       "      <th>MAKE</th>\n",
       "      <th>MODEL</th>\n",
       "      <th>VEHICLECLASS</th>\n",
       "      <th>ENGINESIZE</th>\n",
       "      <th>CYLINDERS</th>\n",
       "      <th>TRANSMISSION</th>\n",
       "      <th>FUELTYPE</th>\n",
       "      <th>FUELCONSUMPTION_CITY</th>\n",
       "      <th>FUELCONSUMPTION_HWY</th>\n",
       "      <th>FUELCONSUMPTION_COMB</th>\n",
       "      <th>FUELCONSUMPTION_COMB_MPG</th>\n",
       "      <th>CO2EMISSIONS</th>\n",
       "    </tr>\n",
       "  </thead>\n",
       "  <tbody>\n",
       "    <tr>\n",
       "      <th>0</th>\n",
       "      <td>2014</td>\n",
       "      <td>ACURA</td>\n",
       "      <td>ILX</td>\n",
       "      <td>COMPACT</td>\n",
       "      <td>2.0</td>\n",
       "      <td>4</td>\n",
       "      <td>AS5</td>\n",
       "      <td>Z</td>\n",
       "      <td>9.9</td>\n",
       "      <td>6.7</td>\n",
       "      <td>8.5</td>\n",
       "      <td>33</td>\n",
       "      <td>196</td>\n",
       "    </tr>\n",
       "    <tr>\n",
       "      <th>1</th>\n",
       "      <td>2014</td>\n",
       "      <td>ACURA</td>\n",
       "      <td>ILX</td>\n",
       "      <td>COMPACT</td>\n",
       "      <td>2.4</td>\n",
       "      <td>4</td>\n",
       "      <td>M6</td>\n",
       "      <td>Z</td>\n",
       "      <td>11.2</td>\n",
       "      <td>7.7</td>\n",
       "      <td>9.6</td>\n",
       "      <td>29</td>\n",
       "      <td>221</td>\n",
       "    </tr>\n",
       "    <tr>\n",
       "      <th>2</th>\n",
       "      <td>2014</td>\n",
       "      <td>ACURA</td>\n",
       "      <td>ILX HYBRID</td>\n",
       "      <td>COMPACT</td>\n",
       "      <td>1.5</td>\n",
       "      <td>4</td>\n",
       "      <td>AV7</td>\n",
       "      <td>Z</td>\n",
       "      <td>6.0</td>\n",
       "      <td>5.8</td>\n",
       "      <td>5.9</td>\n",
       "      <td>48</td>\n",
       "      <td>136</td>\n",
       "    </tr>\n",
       "    <tr>\n",
       "      <th>3</th>\n",
       "      <td>2014</td>\n",
       "      <td>ACURA</td>\n",
       "      <td>MDX 4WD</td>\n",
       "      <td>SUV - SMALL</td>\n",
       "      <td>3.5</td>\n",
       "      <td>6</td>\n",
       "      <td>AS6</td>\n",
       "      <td>Z</td>\n",
       "      <td>12.7</td>\n",
       "      <td>9.1</td>\n",
       "      <td>11.1</td>\n",
       "      <td>25</td>\n",
       "      <td>255</td>\n",
       "    </tr>\n",
       "    <tr>\n",
       "      <th>4</th>\n",
       "      <td>2014</td>\n",
       "      <td>ACURA</td>\n",
       "      <td>RDX AWD</td>\n",
       "      <td>SUV - SMALL</td>\n",
       "      <td>3.5</td>\n",
       "      <td>6</td>\n",
       "      <td>AS6</td>\n",
       "      <td>Z</td>\n",
       "      <td>12.1</td>\n",
       "      <td>8.7</td>\n",
       "      <td>10.6</td>\n",
       "      <td>27</td>\n",
       "      <td>244</td>\n",
       "    </tr>\n",
       "    <tr>\n",
       "      <th>...</th>\n",
       "      <td>...</td>\n",
       "      <td>...</td>\n",
       "      <td>...</td>\n",
       "      <td>...</td>\n",
       "      <td>...</td>\n",
       "      <td>...</td>\n",
       "      <td>...</td>\n",
       "      <td>...</td>\n",
       "      <td>...</td>\n",
       "      <td>...</td>\n",
       "      <td>...</td>\n",
       "      <td>...</td>\n",
       "      <td>...</td>\n",
       "    </tr>\n",
       "    <tr>\n",
       "      <th>1062</th>\n",
       "      <td>2014</td>\n",
       "      <td>VOLVO</td>\n",
       "      <td>XC60 AWD</td>\n",
       "      <td>SUV - SMALL</td>\n",
       "      <td>3.0</td>\n",
       "      <td>6</td>\n",
       "      <td>AS6</td>\n",
       "      <td>X</td>\n",
       "      <td>13.4</td>\n",
       "      <td>9.8</td>\n",
       "      <td>11.8</td>\n",
       "      <td>24</td>\n",
       "      <td>271</td>\n",
       "    </tr>\n",
       "    <tr>\n",
       "      <th>1063</th>\n",
       "      <td>2014</td>\n",
       "      <td>VOLVO</td>\n",
       "      <td>XC60 AWD</td>\n",
       "      <td>SUV - SMALL</td>\n",
       "      <td>3.2</td>\n",
       "      <td>6</td>\n",
       "      <td>AS6</td>\n",
       "      <td>X</td>\n",
       "      <td>13.2</td>\n",
       "      <td>9.5</td>\n",
       "      <td>11.5</td>\n",
       "      <td>25</td>\n",
       "      <td>264</td>\n",
       "    </tr>\n",
       "    <tr>\n",
       "      <th>1064</th>\n",
       "      <td>2014</td>\n",
       "      <td>VOLVO</td>\n",
       "      <td>XC70 AWD</td>\n",
       "      <td>SUV - SMALL</td>\n",
       "      <td>3.0</td>\n",
       "      <td>6</td>\n",
       "      <td>AS6</td>\n",
       "      <td>X</td>\n",
       "      <td>13.4</td>\n",
       "      <td>9.8</td>\n",
       "      <td>11.8</td>\n",
       "      <td>24</td>\n",
       "      <td>271</td>\n",
       "    </tr>\n",
       "    <tr>\n",
       "      <th>1065</th>\n",
       "      <td>2014</td>\n",
       "      <td>VOLVO</td>\n",
       "      <td>XC70 AWD</td>\n",
       "      <td>SUV - SMALL</td>\n",
       "      <td>3.2</td>\n",
       "      <td>6</td>\n",
       "      <td>AS6</td>\n",
       "      <td>X</td>\n",
       "      <td>12.9</td>\n",
       "      <td>9.3</td>\n",
       "      <td>11.3</td>\n",
       "      <td>25</td>\n",
       "      <td>260</td>\n",
       "    </tr>\n",
       "    <tr>\n",
       "      <th>1066</th>\n",
       "      <td>2014</td>\n",
       "      <td>VOLVO</td>\n",
       "      <td>XC90 AWD</td>\n",
       "      <td>SUV - STANDARD</td>\n",
       "      <td>3.2</td>\n",
       "      <td>6</td>\n",
       "      <td>AS6</td>\n",
       "      <td>X</td>\n",
       "      <td>14.9</td>\n",
       "      <td>10.2</td>\n",
       "      <td>12.8</td>\n",
       "      <td>22</td>\n",
       "      <td>294</td>\n",
       "    </tr>\n",
       "  </tbody>\n",
       "</table>\n",
       "<p>1067 rows × 13 columns</p>\n",
       "</div>"
      ],
      "text/plain": [
       "      MODELYEAR   MAKE       MODEL    VEHICLECLASS  ENGINESIZE  CYLINDERS  \\\n",
       "0          2014  ACURA         ILX         COMPACT         2.0          4   \n",
       "1          2014  ACURA         ILX         COMPACT         2.4          4   \n",
       "2          2014  ACURA  ILX HYBRID         COMPACT         1.5          4   \n",
       "3          2014  ACURA     MDX 4WD     SUV - SMALL         3.5          6   \n",
       "4          2014  ACURA     RDX AWD     SUV - SMALL         3.5          6   \n",
       "...         ...    ...         ...             ...         ...        ...   \n",
       "1062       2014  VOLVO    XC60 AWD     SUV - SMALL         3.0          6   \n",
       "1063       2014  VOLVO    XC60 AWD     SUV - SMALL         3.2          6   \n",
       "1064       2014  VOLVO    XC70 AWD     SUV - SMALL         3.0          6   \n",
       "1065       2014  VOLVO    XC70 AWD     SUV - SMALL         3.2          6   \n",
       "1066       2014  VOLVO    XC90 AWD  SUV - STANDARD         3.2          6   \n",
       "\n",
       "     TRANSMISSION FUELTYPE  FUELCONSUMPTION_CITY  FUELCONSUMPTION_HWY  \\\n",
       "0             AS5        Z                   9.9                  6.7   \n",
       "1              M6        Z                  11.2                  7.7   \n",
       "2             AV7        Z                   6.0                  5.8   \n",
       "3             AS6        Z                  12.7                  9.1   \n",
       "4             AS6        Z                  12.1                  8.7   \n",
       "...           ...      ...                   ...                  ...   \n",
       "1062          AS6        X                  13.4                  9.8   \n",
       "1063          AS6        X                  13.2                  9.5   \n",
       "1064          AS6        X                  13.4                  9.8   \n",
       "1065          AS6        X                  12.9                  9.3   \n",
       "1066          AS6        X                  14.9                 10.2   \n",
       "\n",
       "      FUELCONSUMPTION_COMB  FUELCONSUMPTION_COMB_MPG  CO2EMISSIONS  \n",
       "0                      8.5                        33           196  \n",
       "1                      9.6                        29           221  \n",
       "2                      5.9                        48           136  \n",
       "3                     11.1                        25           255  \n",
       "4                     10.6                        27           244  \n",
       "...                    ...                       ...           ...  \n",
       "1062                  11.8                        24           271  \n",
       "1063                  11.5                        25           264  \n",
       "1064                  11.8                        24           271  \n",
       "1065                  11.3                        25           260  \n",
       "1066                  12.8                        22           294  \n",
       "\n",
       "[1067 rows x 13 columns]"
      ]
     },
     "execution_count": 54,
     "metadata": {},
     "output_type": "execute_result"
    }
   ],
   "source": [
    "df"
   ]
  },
  {
   "cell_type": "markdown",
   "metadata": {},
   "source": [
    "# CLUSTER:"
   ]
  },
  {
   "cell_type": "code",
   "execution_count": 14,
   "metadata": {},
   "outputs": [],
   "source": [
    "X=df[[\"FUELCONSUMPTION_CITY\",\"CO2EMISSIONS\"]]"
   ]
  },
  {
   "cell_type": "code",
   "execution_count": 15,
   "metadata": {},
   "outputs": [
    {
     "data": {
      "text/plain": [
       "(1067, 2)"
      ]
     },
     "execution_count": 15,
     "metadata": {},
     "output_type": "execute_result"
    }
   ],
   "source": [
    "from sklearn.preprocessing import MinMaxScaler\n",
    "X = MinMaxScaler().fit_transform(X)\n",
    "X.shape"
   ]
  },
  {
   "cell_type": "code",
   "execution_count": 16,
   "metadata": {},
   "outputs": [],
   "source": [
    "from sklearn.neighbors import NearestNeighbors\n",
    "neigh = NearestNeighbors(n_neighbors=2)\n",
    "nbrs = neigh.fit(X)\n",
    "distances, indices = nbrs.kneighbors(X)"
   ]
  },
  {
   "cell_type": "code",
   "execution_count": 17,
   "metadata": {},
   "outputs": [
    {
     "data": {
      "text/plain": [
       "[<matplotlib.lines.Line2D at 0x7fb447075f70>]"
      ]
     },
     "execution_count": 17,
     "metadata": {},
     "output_type": "execute_result"
    },
    {
     "data": {
      "image/png": "[encoded data removed]",
      "text/plain": [
       "<Figure size 432x288 with 1 Axes>"
      ]
     },
     "metadata": {
      "needs_background": "light"
     },
     "output_type": "display_data"
    }
   ],
   "source": [
    "distances = np.sort(distances, axis=0)\n",
    "distances = distances[:,1]\n",
    "plt.plot(distances)"
   ]
  },
  {
   "cell_type": "code",
   "execution_count": 24,
   "metadata": {},
   "outputs": [
    {
     "data": {
      "text/plain": [
       "array([0, 0, 0, ..., 0, 0, 0])"
      ]
     },
     "execution_count": 24,
     "metadata": {},
     "output_type": "execute_result"
    }
   ],
   "source": [
    "epsilon = 0.08\n",
    "minimumSamples = 5\n",
    "db = DBSCAN(eps=epsilon, min_samples=minimumSamples).fit(X)\n",
    "labels = db.labels_\n",
    "labels"
   ]
  },
  {
   "cell_type": "code",
   "execution_count": 25,
   "metadata": {},
   "outputs": [
    {
     "name": "stderr",
     "output_type": "stream",
     "text": [
      "/opt/anaconda3/lib/python3.8/site-packages/seaborn/_decorators.py:36: FutureWarning: Pass the following variables as keyword args: x, y. From version 0.12, the only valid positional argument will be `data`, and passing other arguments without an explicit keyword will result in an error or misinterpretation.\n",
      "  warnings.warn(\n"
     ]
    },
    {
     "data": {
      "image/png": "[encoded data removed]",
      "text/plain": [
       "<Figure size 576x432 with 1 Axes>"
      ]
     },
     "metadata": {
      "needs_background": "light"
     },
     "output_type": "display_data"
    }
   ],
   "source": [
    "df = pd.DataFrame()\n",
    "df[\"city\"]= X[:,0]\n",
    "df[\"CO2\"] = X[:,1]\n",
    "df[\"clase\"]=labels\n",
    "plt.figure(figsize=(8,6))\n",
    "sns.scatterplot(df[\"city\"],df[\"CO2\"],hue = df[\"clase\"], palette=\"Set2\")\n",
    "plt.show()"
   ]
  },
  {
   "cell_type": "markdown",
   "metadata": {},
   "source": [
    "# REGRESIÓN LINEAL:"
   ]
  },
  {
   "cell_type": "markdown",
   "metadata": {},
   "source": [
    "- CLUSTER 0:"
   ]
  },
  {
   "cell_type": "code",
   "execution_count": 32,
   "metadata": {},
   "outputs": [
    {
     "data": {
      "text/html": [
       "<div>\n",
       "<style scoped>\n",
       "    .dataframe tbody tr th:only-of-type {\n",
       "        vertical-align: middle;\n",
       "    }\n",
       "\n",
       "    .dataframe tbody tr th {\n",
       "        vertical-align: top;\n",
       "    }\n",
       "\n",
       "    .dataframe thead th {\n",
       "        text-align: right;\n",
       "    }\n",
       "</style>\n",
       "<table border=\"1\" class=\"dataframe\">\n",
       "  <thead>\n",
       "    <tr style=\"text-align: right;\">\n",
       "      <th></th>\n",
       "      <th>city</th>\n",
       "      <th>CO2</th>\n",
       "      <th>clase</th>\n",
       "    </tr>\n",
       "  </thead>\n",
       "  <tbody>\n",
       "    <tr>\n",
       "      <th>0</th>\n",
       "      <td>0.207031</td>\n",
       "      <td>0.231579</td>\n",
       "      <td>0</td>\n",
       "    </tr>\n",
       "    <tr>\n",
       "      <th>1</th>\n",
       "      <td>0.257812</td>\n",
       "      <td>0.297368</td>\n",
       "      <td>0</td>\n",
       "    </tr>\n",
       "    <tr>\n",
       "      <th>2</th>\n",
       "      <td>0.054688</td>\n",
       "      <td>0.073684</td>\n",
       "      <td>0</td>\n",
       "    </tr>\n",
       "    <tr>\n",
       "      <th>3</th>\n",
       "      <td>0.316406</td>\n",
       "      <td>0.386842</td>\n",
       "      <td>0</td>\n",
       "    </tr>\n",
       "    <tr>\n",
       "      <th>4</th>\n",
       "      <td>0.292969</td>\n",
       "      <td>0.357895</td>\n",
       "      <td>0</td>\n",
       "    </tr>\n",
       "    <tr>\n",
       "      <th>...</th>\n",
       "      <td>...</td>\n",
       "      <td>...</td>\n",
       "      <td>...</td>\n",
       "    </tr>\n",
       "    <tr>\n",
       "      <th>1062</th>\n",
       "      <td>0.343750</td>\n",
       "      <td>0.428947</td>\n",
       "      <td>0</td>\n",
       "    </tr>\n",
       "    <tr>\n",
       "      <th>1063</th>\n",
       "      <td>0.335938</td>\n",
       "      <td>0.410526</td>\n",
       "      <td>0</td>\n",
       "    </tr>\n",
       "    <tr>\n",
       "      <th>1064</th>\n",
       "      <td>0.343750</td>\n",
       "      <td>0.428947</td>\n",
       "      <td>0</td>\n",
       "    </tr>\n",
       "    <tr>\n",
       "      <th>1065</th>\n",
       "      <td>0.324219</td>\n",
       "      <td>0.400000</td>\n",
       "      <td>0</td>\n",
       "    </tr>\n",
       "    <tr>\n",
       "      <th>1066</th>\n",
       "      <td>0.402344</td>\n",
       "      <td>0.489474</td>\n",
       "      <td>0</td>\n",
       "    </tr>\n",
       "  </tbody>\n",
       "</table>\n",
       "<p>974 rows × 3 columns</p>\n",
       "</div>"
      ],
      "text/plain": [
       "          city       CO2  clase\n",
       "0     0.207031  0.231579      0\n",
       "1     0.257812  0.297368      0\n",
       "2     0.054688  0.073684      0\n",
       "3     0.316406  0.386842      0\n",
       "4     0.292969  0.357895      0\n",
       "...        ...       ...    ...\n",
       "1062  0.343750  0.428947      0\n",
       "1063  0.335938  0.410526      0\n",
       "1064  0.343750  0.428947      0\n",
       "1065  0.324219  0.400000      0\n",
       "1066  0.402344  0.489474      0\n",
       "\n",
       "[974 rows x 3 columns]"
      ]
     },
     "execution_count": 32,
     "metadata": {},
     "output_type": "execute_result"
    }
   ],
   "source": [
    "df_clase0=df[df[\"clase\"]==0]\n",
    "df_clase0"
   ]
  },
  {
   "cell_type": "code",
   "execution_count": 35,
   "metadata": {},
   "outputs": [
    {
     "data": {
      "text/plain": [
       "(974, 1)"
      ]
     },
     "execution_count": 35,
     "metadata": {},
     "output_type": "execute_result"
    }
   ],
   "source": [
    "X = df_clase0.city.values.reshape(974,1)\n",
    "y = df_clase0.CO2.values\n",
    "X.shape"
   ]
  },
  {
   "cell_type": "code",
   "execution_count": 37,
   "metadata": {},
   "outputs": [],
   "source": [
    "from sklearn.model_selection import train_test_split\n",
    "X_train, X_test, y_train, y_test = train_test_split(X, y, test_size=0.30)"
   ]
  },
  {
   "cell_type": "code",
   "execution_count": 38,
   "metadata": {},
   "outputs": [
    {
     "name": "stdout",
     "output_type": "stream",
     "text": [
      "w_1:  [1.25737086]\n",
      "w_0:  -0.011284395470625097\n"
     ]
    }
   ],
   "source": [
    "from sklearn import linear_model\n",
    "regresion_lineal = linear_model.LinearRegression()\n",
    "regresion_lineal.fit(X_train, y_train)\n",
    "\n",
    "# Encontramos los coeficientes de la recta  \n",
    "print ('w_1: ', regresion_lineal.coef_)\n",
    "print ('w_0: ',regresion_lineal.intercept_)"
   ]
  },
  {
   "cell_type": "code",
   "execution_count": 39,
   "metadata": {},
   "outputs": [
    {
     "data": {
      "text/plain": [
       "-0.011284395470625097"
      ]
     },
     "execution_count": 39,
     "metadata": {},
     "output_type": "execute_result"
    }
   ],
   "source": [
    "regresion_lineal.intercept_"
   ]
  },
  {
   "cell_type": "code",
   "execution_count": 40,
   "metadata": {},
   "outputs": [
    {
     "name": "stderr",
     "output_type": "stream",
     "text": [
      "/opt/anaconda3/lib/python3.8/site-packages/seaborn/_decorators.py:36: FutureWarning: Pass the following variables as keyword args: x, y. From version 0.12, the only valid positional argument will be `data`, and passing other arguments without an explicit keyword will result in an error or misinterpretation.\n",
      "  warnings.warn(\n",
      "/opt/anaconda3/lib/python3.8/site-packages/seaborn/_decorators.py:36: FutureWarning: Pass the following variables as keyword args: x, y. From version 0.12, the only valid positional argument will be `data`, and passing other arguments without an explicit keyword will result in an error or misinterpretation.\n",
      "  warnings.warn(\n"
     ]
    },
    {
     "data": {
      "image/png": "[encoded data removed]",
      "text/plain": [
       "<Figure size 432x288 with 1 Axes>"
      ]
     },
     "metadata": {
      "needs_background": "light"
     },
     "output_type": "display_data"
    }
   ],
   "source": [
    "sns.scatterplot(X_train.flatten(),y_train.flatten(), color=\"magenta\") \n",
    "#datos de prueba (green)\n",
    "sns.scatterplot(X_test.flatten(),y_test.flatten(), color=\"green\")  \n",
    "#regresión\n",
    "plt.plot(X_train, regresion_lineal.coef_[0]*X_train + regresion_lineal.intercept_, '-b')\n",
    "plt.show()"
   ]
  },
  {
   "cell_type": "code",
   "execution_count": 41,
   "metadata": {
    "collapsed": true,
    "jupyter": {
     "outputs_hidden": true
    }
   },
   "outputs": [
    {
     "name": "stdout",
     "output_type": "stream",
     "text": [
      "Predicción:  0.48969930594753885 Valor real:  0.47894736842105257\n",
      "Predicción:  0.18026819624808463 Valor real:  0.22631578947368425\n",
      "Predicción:  0.41602523220957355 Valor real:  0.41315789473684206\n",
      "Predicción:  0.5682849846013684 Valor real:  0.6\n",
      "Predicción:  0.49952251577926754 Valor real:  0.5263157894736842\n",
      "Predicción:  0.6026662190124189 Valor real:  0.6289473684210526\n",
      "Predicción:  0.49952251577926754 Valor real:  0.4842105263157894\n",
      "Predicción:  0.4209368371254379 Valor real:  0.4236842105263158\n",
      "Predicción:  0.799130415646993 Valor real:  0.7921052631578946\n",
      "Predicción:  0.38655560271438744 Valor real:  0.3868421052631579\n",
      "Predicción:  0.48478770103167446 Valor real:  0.5210526315789473\n",
      "Predicción:  0.31288152897642213 Valor real:  0.2973684210526316\n",
      "Predicción:  0.2539422699860499 Valor real:  0.22368421052631582\n",
      "Predicción:  0.34235115847160824 Valor real:  0.3263157894736842\n",
      "Predicción:  0.533903750190318 Valor real:  0.5578947368421052\n",
      "Predicción:  0.37182078796679435 Valor real:  0.3631578947368421\n",
      "Predicción:  0.799130415646993 Valor real:  0.8052631578947369\n",
      "Predicción:  0.8482464648056366 Valor real:  0.8605263157894736\n",
      "Predicción:  0.5388153551061824 Valor real:  0.5394736842105263\n",
      "Predicción:  0.0820360979307976 Valor real:  0.09210526315789475\n",
      "Predicción:  0.40620202237784486 Valor real:  0.4\n",
      "Predicción:  0.3914672076302518 Valor real:  0.37631578947368416\n",
      "Predicción:  0.6026662190124189 Valor real:  0.6368421052631579\n",
      "Predicción:  0.283411899481236 Valor real:  0.27368421052631575\n",
      "Predicción:  0.6616054780027911 Valor real:  0.6789473684210526\n",
      "Predicción:  0.19009140607981334 Valor real:  0.18157894736842106\n",
      "Predicción:  0.617401033760012 Valor real:  0.6236842105263157\n",
      "Predicción:  0.185179801163949 Valor real:  0.1763157894736842\n",
      "Predicción:  0.21956103557499945 Valor real:  0.21842105263157896\n",
      "Predicción:  0.38655560271438744 Valor real:  0.37631578947368416\n",
      "Predicción:  0.3570859732192013 Valor real:  0.35789473684210527\n",
      "Predicción:  0.1557101716687629 Valor real:  0.21842105263157896\n",
      "Predicción:  0.19009140607981334 Valor real:  0.19473684210526315\n",
      "Predicción:  0.6124894288441476 Valor real:  0.6052631578947368\n",
      "Predicción:  0.3816439977985231 Valor real:  0.381578947368421\n",
      "Predicción:  0.27358868964950733 Valor real:  0.2421052631578947\n",
      "Predicción:  0.29323510931296476 Valor real:  0.28421052631578947\n",
      "Predicción:  0.435671651873031 Valor real:  0.4552631578947368\n",
      "Predicción:  0.3079699240605578 Valor real:  0.3078947368421052\n",
      "Predicción:  0.17044498641635594 Valor real:  0.18157894736842106\n",
      "Predicción:  0.37673239288265875 Valor real:  0.3631578947368421\n",
      "Predicción:  0.5633733796855042 Valor real:  0.5684210526315789\n",
      "Predicción:  0.3570859732192013 Valor real:  0.3342105263157895\n",
      "Predicción:  0.2981467142288291 Valor real:  0.2973684210526316\n",
      "Predicción:  0.5535501698537754 Valor real:  0.5763157894736842\n",
      "Predicción:  0.7107215271614347 Valor real:  0.7578947368421052\n",
      "Predicción:  0.31288152897642213 Valor real:  0.32105263157894737\n",
      "Predicción:  0.4798760961158101 Valor real:  0.4842105263157894\n",
      "Predicción:  0.3276163437240152 Valor real:  0.3342105263157895\n",
      "Predicción:  0.37673239288265875 Valor real:  0.3526315789473684\n",
      "Predicción:  0.15079856675289852 Valor real:  0.2131578947368421\n",
      "Predicción:  0.3276163437240152 Valor real:  0.3342105263157895\n",
      "Predicción:  0.2244726404908638 Valor real:  0.20526315789473681\n",
      "Predicción:  0.31288152897642213 Valor real:  0.32105263157894737\n",
      "Predicción:  0.4651412813682171 Valor real:  0.4605263157894737\n",
      "Predicción:  0.6468706632551982 Valor real:  0.6473684210526316\n",
      "Predicción:  0.4111136272937092 Valor real:  0.41052631578947363\n",
      "Predicción:  0.5093457256109962 Valor real:  0.5263157894736842\n",
      "Predicción:  0.21956103557499945 Valor real:  0.21842105263157896\n",
      "Predicción:  0.4602296764523527 Valor real:  0.4736842105263158\n",
      "Predicción:  0.34726276338747264 Valor real:  0.32105263157894737\n",
      "Predicción:  0.435671651873031 Valor real:  0.4473684210526315\n",
      "Predicción:  0.37673239288265875 Valor real:  0.381578947368421\n",
      "Predicción:  0.25885387490191425 Valor real:  0.231578947368421\n",
      "Predicción:  0.617401033760012 Valor real:  0.6052631578947368\n",
      "Predicción:  0.24903066507018556 Valor real:  0.24736842105263157\n",
      "Predicción:  0.24411906015432122 Valor real:  0.2605263157894737\n",
      "Predicción:  0.185179801163949 Valor real:  0.18684210526315786\n",
      "Predicción:  0.32270473880815087 Valor real:  0.3526315789473684\n",
      "Predicción:  0.3570859732192013 Valor real:  0.35789473684210527\n",
      "Predicción:  0.730367946824892 Valor real:  0.763157894736842\n",
      "Predicción:  0.3276163437240152 Valor real:  0.32105263157894737\n",
      "Predicción:  0.6714286878345198 Valor real:  0.6710526315789473\n",
      "Predicción:  0.4307600469571666 Valor real:  0.4052631578947369\n",
      "Predicción:  0.44549486170475966 Valor real:  0.4473684210526315\n",
      "Predicción:  0.4209368371254379 Valor real:  0.4473684210526315\n",
      "Predicción:  0.4307600469571666 Valor real:  0.4368421052631579\n",
      "Predicción:  0.2785002945653717 Valor real:  0.2605263157894737\n",
      "Predicción:  0.5486385649379111 Valor real:  0.5499999999999999\n",
      "Predicción:  0.41602523220957355 Valor real:  0.41052631578947363\n",
      "Predicción:  0.16553338150049157 Valor real:  0.22631578947368425\n",
      "Predicción:  0.20973782574327074 Valor real:  0.2\n",
      "Predicción:  0.25885387490191425 Valor real:  0.26578947368421046\n",
      "Predicción:  0.13115214708944112 Valor real:  0.1157894736842105\n",
      "Predicción:  0.19991461591154205 Valor real:  0.2131578947368421\n",
      "Predicción:  0.37673239288265875 Valor real:  0.3631578947368421\n",
      "Predicción:  0.5486385649379111 Valor real:  0.5499999999999999\n",
      "Predicción:  0.47005288628408143 Valor real:  0.4552631578947368\n",
      "Predicción:  0.26376547981777865 Valor real:  0.25526315789473686\n",
      "Predicción:  0.33252794863987956 Valor real:  0.35789473684210527\n",
      "Predicción:  0.6616054780027911 Valor real:  0.7157894736842105\n",
      "Predicción:  0.4602296764523527 Valor real:  0.4736842105263158\n",
      "Predicción:  0.22938424540672817 Valor real:  0.231578947368421\n",
      "Predicción:  0.6321358485076051 Valor real:  0.6289473684210526\n",
      "Predicción:  0.32270473880815087 Valor real:  0.32105263157894737\n",
      "Predicción:  0.5682849846013684 Valor real:  0.5815789473684211\n",
      "Predicción:  0.435671651873031 Valor real:  0.4605263157894737\n",
      "Predicción:  0.3963788125461161 Valor real:  0.3868421052631579\n",
      "Predicción:  0.44549486170475966 Valor real:  0.4473684210526315\n",
      "Predicción:  0.435671651873031 Valor real:  0.4473684210526315\n",
      "Predicción:  0.20973782574327074 Valor real:  0.2\n",
      "Predicción:  0.5437269600220467 Valor real:  0.5499999999999999\n",
      "Predicción:  0.31779313389228653 Valor real:  0.3157894736842105\n",
      "Predicción:  0.5093457256109962 Valor real:  0.4842105263157894\n",
      "Predicción:  0.4798760961158101 Valor real:  0.4842105263157894\n",
      "Predicción:  0.3816439977985231 Valor real:  0.381578947368421\n",
      "Predicción:  0.2785002945653717 Valor real:  0.27368421052631575\n",
      "Predicción:  0.5093457256109962 Valor real:  0.5263157894736842\n",
      "Predicción:  0.18026819624808463 Valor real:  0.23421052631578942\n",
      "Predicción:  0.283411899481236 Valor real:  0.27368421052631575\n",
      "Predicción:  0.268677084733643 Valor real:  0.25526315789473686\n",
      "Predicción:  0.20973782574327074 Valor real:  0.18157894736842106\n",
      "Predicción:  0.49952251577926754 Valor real:  0.4842105263157894\n",
      "Predicción:  0.27358868964950733 Valor real:  0.2421052631578947\n",
      "Predicción:  0.17044498641635594 Valor real:  0.15789473684210525\n",
      "Predicción:  0.17535659133222029 Valor real:  0.1526315789473684\n",
      "Predicción:  0.19009140607981334 Valor real:  0.18684210526315786\n",
      "Predicción:  0.34235115847160824 Valor real:  0.32105263157894737\n",
      "Predicción:  0.20973782574327074 Valor real:  0.24736842105263157\n",
      "Predicción:  0.4602296764523527 Valor real:  0.47894736842105257\n",
      "Predicción:  0.41602523220957355 Valor real:  0.4052631578947369\n",
      "Predicción:  0.6468706632551982 Valor real:  0.6789473684210526\n",
      "Predicción:  0.41602523220957355 Valor real:  0.4184210526315789\n",
      "Predicción:  0.8580696746373653 Valor real:  0.8657894736842104\n",
      "Predicción:  0.22938424540672817 Valor real:  0.23684210526315785\n",
      "Predicción:  0.5388153551061824 Valor real:  0.5210526315789473\n",
      "Predicción:  0.6075778239282833 Valor real:  0.6289473684210526\n",
      "Predicción:  0.24411906015432122 Valor real:  0.22368421052631582\n",
      "Predicción:  0.352174368303337 Valor real:  0.3526315789473684\n",
      "Predicción:  0.40129041746198046 Valor real:  0.37631578947368416\n",
      "Predicción:  0.24903066507018556 Valor real:  0.2605263157894737\n",
      "Predicción:  0.49952251577926754 Valor real:  0.4842105263157894\n",
      "Predicción:  0.27358868964950733 Valor real:  0.2421052631578947\n",
      "Predicción:  0.047654863519747126 Valor real:  0.07894736842105265\n",
      "Predicción:  0.268677084733643 Valor real:  0.28421052631578947\n",
      "Predicción:  0.3570859732192013 Valor real:  0.37631578947368416\n",
      "Predicción:  0.44549486170475966 Valor real:  0.4421052631578948\n",
      "Predicción:  0.5142573305268606 Valor real:  0.4894736842105263\n",
      "Predicción:  0.19009140607981334 Valor real:  0.19473684210526315\n",
      "Predicción:  0.37673239288265875 Valor real:  0.3631578947368421\n",
      "Predicción:  0.26376547981777865 Valor real:  0.24736842105263157\n",
      "Predicción:  0.40129041746198046 Valor real:  0.39473684210526316\n",
      "Predicción:  0.5437269600220467 Valor real:  0.5447368421052632\n",
      "Predicción:  0.37673239288265875 Valor real:  0.381578947368421\n",
      "Predicción:  0.4602296764523527 Valor real:  0.4473684210526315\n",
      "Predicción:  0.30305831914469344 Valor real:  0.2973684210526316\n",
      "Predicción:  0.6763402927503842 Valor real:  0.7157894736842105\n",
      "Predicción:  0.283411899481236 Valor real:  0.27368421052631575\n",
      "Predicción:  0.2539422699860499 Valor real:  0.2421052631578947\n",
      "Predicción:  0.49461091086340314 Valor real:  0.4421052631578948\n",
      "Predicción:  0.4798760961158101 Valor real:  0.4894736842105263\n",
      "Predicción:  0.4209368371254379 Valor real:  0.4052631578947369\n",
      "Predicción:  0.3816439977985231 Valor real:  0.381578947368421\n",
      "Predicción:  0.22938424540672817 Valor real:  0.23684210526315785\n",
      "Predicción:  0.49952251577926754 Valor real:  0.4842105263157894\n",
      "Predicción:  0.36199757813506567 Valor real:  0.4\n",
      "Predicción:  0.10659412251011935 Valor real:  0.10263157894736841\n",
      "Predicción:  0.26376547981777865 Valor real:  0.2421052631578947\n",
      "Predicción:  0.20973782574327074 Valor real:  0.20526315789473681\n",
      "Predicción:  0.3079699240605578 Valor real:  0.3078947368421052\n",
      "Predicción:  0.08694770284666195 Valor real:  0.09736842105263155\n",
      "Predicción:  0.268677084733643 Valor real:  0.28421052631578947\n",
      "Predicción:  0.2244726404908638 Valor real:  0.231578947368421\n",
      "Predicción:  0.19009140607981334 Valor real:  0.18157894736842106\n",
      "Predicción:  0.34726276338747264 Valor real:  0.3263157894736842\n",
      "Predicción:  0.8040420205628573 Valor real:  0.7868421052631578\n",
      "Predicción:  0.21956103557499945 Valor real:  0.231578947368421\n",
      "Predicción:  0.19991461591154205 Valor real:  0.18684210526315786\n",
      "Predicción:  0.5879314042648258 Valor real:  0.5578947368421052\n",
      "Predicción:  0.32270473880815087 Valor real:  0.3342105263157895\n",
      "Predicción:  0.7451027615724851 Valor real:  0.7157894736842105\n",
      "Predicción:  0.37182078796679435 Valor real:  0.33947368421052626\n",
      "Predicción:  0.21956103557499945 Valor real:  0.21842105263157896\n",
      "Predicción:  0.799130415646993 Valor real:  0.8052631578947369\n",
      "Predicción:  0.48478770103167446 Valor real:  0.4552631578947368\n",
      "Predicción:  0.4209368371254379 Valor real:  0.4184210526315789\n",
      "Predicción:  0.5486385649379111 Valor real:  0.5499999999999999\n",
      "Predicción:  0.730367946824892 Valor real:  0.7210526315789474\n",
      "Predicción:  0.41602523220957355 Valor real:  0.4236842105263158\n",
      "Predicción:  0.3914672076302518 Valor real:  0.37631578947368416\n",
      "Predicción:  0.15079856675289852 Valor real:  0.15789473684210525\n",
      "Predicción:  0.19009140607981334 Valor real:  0.18684210526315786\n",
      "Predicción:  0.283411899481236 Valor real:  0.26578947368421046\n",
      "Predicción:  0.21956103557499945 Valor real:  0.21842105263157896\n",
      "Predicción:  0.37673239288265875 Valor real:  0.3631578947368421\n",
      "Predicción:  0.19009140607981334 Valor real:  0.1763157894736842\n",
      "Predicción:  0.6861635025821129 Valor real:  0.7078947368421052\n",
      "Predicción:  0.352174368303337 Valor real:  0.32105263157894737\n",
      "Predicción:  0.450406466620624 Valor real:  0.4605263157894737\n",
      "Predicción:  0.6272242435917407 Valor real:  0.5947368421052631\n",
      "Predicción:  0.2342958503225925 Valor real:  0.32105263157894737\n",
      "Predicción:  0.5093457256109962 Valor real:  0.5447368421052632\n",
      "Predicción:  0.24411906015432122 Valor real:  0.231578947368421\n",
      "Predicción:  0.533903750190318 Valor real:  0.5447368421052632\n",
      "Predicción:  0.2244726404908638 Valor real:  0.20526315789473681\n",
      "Predicción:  0.5584617747696398 Valor real:  0.5763157894736842\n",
      "Predicción:  0.5142573305268606 Valor real:  0.5631578947368421\n",
      "Predicción:  0.5633733796855042 Valor real:  0.5684210526315789\n",
      "Predicción:  0.42584844204130223 Valor real:  0.4184210526315789\n",
      "Predicción:  0.23920745523845688 Valor real:  0.22368421052631582\n",
      "Predicción:  0.21956103557499945 Valor real:  0.2421052631578947\n",
      "Predicción:  0.21956103557499945 Valor real:  0.2\n",
      "Predicción:  0.15079856675289852 Valor real:  0.1526315789473684\n",
      "Predicción:  0.4111136272937092 Valor real:  0.41052631578947363\n",
      "Predicción:  0.5486385649379111 Valor real:  0.5631578947368421\n",
      "Predicción:  0.5584617747696398 Valor real:  0.5499999999999999\n",
      "Predicción:  0.5879314042648258 Valor real:  0.5578947368421052\n",
      "Predicción:  0.3816439977985231 Valor real:  0.35789473684210527\n",
      "Predicción:  0.6616054780027911 Valor real:  0.7157894736842105\n",
      "Predicción:  0.3963788125461161 Valor real:  0.37631578947368416\n",
      "Predicción:  0.49952251577926754 Valor real:  0.5026315789473684\n",
      "Predicción:  0.435671651873031 Valor real:  0.4368421052631579\n",
      "Predicción:  0.18026819624808463 Valor real:  0.17105263157894735\n",
      "Predicción:  0.31288152897642213 Valor real:  0.2973684210526316\n",
      "Predicción:  0.03292004877215407 Valor real:  0.060526315789473706\n",
      "Predicción:  0.2342958503225925 Valor real:  0.2421052631578947\n",
      "Predicción:  0.36690918305093 Valor real:  0.4552631578947368\n",
      "Predicción:  0.5781081944330971 Valor real:  0.5947368421052631\n",
      "Predicción:  0.450406466620624 Valor real:  0.42894736842105263\n",
      "Predicción:  0.47496449119994577 Valor real:  0.5078947368421053\n",
      "Predicción:  0.5977546140965546 Valor real:  0.6052631578947368\n",
      "Predicción:  0.37673239288265875 Valor real:  0.3868421052631579\n",
      "Predicción:  0.3963788125461161 Valor real:  0.4\n",
      "Predicción:  0.5388153551061824 Valor real:  0.4894736842105263\n",
      "Predicción:  0.700898317329706 Valor real:  0.7157894736842105\n",
      "Predicción:  0.2048262208274064 Valor real:  0.2\n",
      "Predicción:  0.3816439977985231 Valor real:  0.368421052631579\n",
      "Predicción:  0.33252794863987956 Valor real:  0.3078947368421052\n",
      "Predicción:  0.31779313389228653 Valor real:  0.3157894736842105\n",
      "Predicción:  0.40620202237784486 Valor real:  0.4368421052631579\n",
      "Predicción:  0.38655560271438744 Valor real:  0.381578947368421\n",
      "Predicción:  0.6517822681710624 Valor real:  0.6894736842105263\n",
      "Predicción:  0.283411899481236 Valor real:  0.28421052631578947\n",
      "Predicción:  0.6566938730869268 Valor real:  0.6657894736842105\n",
      "Predicción:  0.4602296764523527 Valor real:  0.47894736842105257\n",
      "Predicción:  0.29323510931296476 Valor real:  0.3078947368421052\n",
      "Predicción:  0.17535659133222029 Valor real:  0.18157894736842106\n",
      "Predicción:  0.14588696183703417 Valor real:  0.1394736842105263\n",
      "Predicción:  0.5388153551061824 Valor real:  0.5210526315789473\n",
      "Predicción:  0.3963788125461161 Valor real:  0.4894736842105263\n",
      "Predicción:  0.19009140607981334 Valor real:  0.18684210526315786\n",
      "Predicción:  0.34235115847160824 Valor real:  0.3342105263157895\n",
      "Predicción:  0.32270473880815087 Valor real:  0.2973684210526316\n",
      "Predicción:  0.21956103557499945 Valor real:  0.231578947368421\n",
      "Predicción:  0.42584844204130223 Valor real:  0.4\n",
      "Predicción:  0.3963788125461161 Valor real:  0.3868421052631579\n",
      "Predicción:  0.268677084733643 Valor real:  0.26578947368421046\n",
      "Predicción:  0.49461091086340314 Valor real:  0.5026315789473684\n",
      "Predicción:  0.33252794863987956 Valor real:  0.3263157894736842\n",
      "Predicción:  0.40620202237784486 Valor real:  0.4052631578947369\n",
      "Predicción:  0.16062177658462723 Valor real:  0.18157894736842106\n",
      "Predicción:  0.2146494306591351 Valor real:  0.21842105263157896\n",
      "Predicción:  0.435671651873031 Valor real:  0.4368421052631579\n",
      "Predicción:  0.5486385649379111 Valor real:  0.5499999999999999\n",
      "Predicción:  0.7451027615724851 Valor real:  0.7157894736842105\n",
      "Predicción:  0.44549486170475966 Valor real:  0.4421052631578948\n",
      "Predicción:  0.4111136272937092 Valor real:  0.4\n",
      "Predicción:  0.6124894288441476 Valor real:  0.6052631578947368\n",
      "Predicción:  0.23920745523845688 Valor real:  0.22368421052631582\n",
      "Predicción:  0.5240805403585893 Valor real:  0.531578947368421\n",
      "Predicción:  0.49952251577926754 Valor real:  0.49736842105263157\n",
      "Predicción:  0.101682517594255 Valor real:  0.10263157894736841\n",
      "Predicción:  0.36690918305093 Valor real:  0.381578947368421\n",
      "Predicción:  0.34235115847160824 Valor real:  0.33947368421052626\n",
      "Predicción:  0.3914672076302518 Valor real:  0.42894736842105263\n",
      "Predicción:  0.37673239288265875 Valor real:  0.381578947368421\n",
      "Predicción:  0.32270473880815087 Valor real:  0.3078947368421052\n",
      "Predicción:  0.36690918305093 Valor real:  0.3526315789473684\n",
      "Predicción:  0.19500301099567768 Valor real:  0.1763157894736842\n",
      "Predicción:  0.24411906015432122 Valor real:  0.231578947368421\n",
      "Predicción:  0.4602296764523527 Valor real:  0.4552631578947368\n",
      "Predicción:  0.5633733796855042 Valor real:  0.5947368421052631\n",
      "Predicción:  0.3963788125461161 Valor real:  0.4052631578947369\n",
      "Predicción:  0.2342958503225925 Valor real:  0.23684210526315785\n",
      "Predicción:  0.6616054780027911 Valor real:  0.7157894736842105\n",
      "Predicción:  0.29323510931296476 Valor real:  0.26578947368421046\n",
      "Predicción:  0.37182078796679435 Valor real:  0.33947368421052626\n",
      "Predicción:  0.283411899481236 Valor real:  0.26578947368421046\n",
      "Predicción:  0.33252794863987956 Valor real:  0.3263157894736842\n",
      "Predicción:  0.4209368371254379 Valor real:  0.42894736842105263\n",
      "Predicción:  0.5830197993489615 Valor real:  0.6105263157894737\n",
      "Predicción:  0.450406466620624 Valor real:  0.4605263157894737\n",
      "Predicción:  0.34235115847160824 Valor real:  0.3342105263157895\n",
      "Predicción:  0.36199757813506567 Valor real:  0.35789473684210527\n",
      "Predicción:  0.49461091086340314 Valor real:  0.5026315789473684\n",
      "Predicción:  0.5682849846013684 Valor real:  0.5684210526315789\n",
      "Predicción:  0.26376547981777865 Valor real:  0.2605263157894737\n",
      "Predicción:  0.3374395535557439 Valor real:  0.3868421052631579\n",
      "Predicción:  0.47496449119994577 Valor real:  0.4894736842105263\n",
      "Predicción:  0.3276163437240152 Valor real:  0.32105263157894737\n",
      "Predicción:  0.7745723910676713 Valor real:  0.8236842105263158\n",
      "Predicción:  0.5584617747696398 Valor real:  0.5499999999999999\n",
      "Predicción:  0.4651412813682171 Valor real:  0.49736842105263157\n"
     ]
    }
   ],
   "source": [
    "yhat = regresion_lineal.predict(X_test)\n",
    "\n",
    "for i,j in zip(yhat,y_test):\n",
    "    print(\"Predicción: \",i, \"Valor real: \",j)"
   ]
  },
  {
   "cell_type": "code",
   "execution_count": 42,
   "metadata": {},
   "outputs": [
    {
     "data": {
      "text/plain": [
       "0.9827177687982668"
      ]
     },
     "execution_count": 42,
     "metadata": {},
     "output_type": "execute_result"
    }
   ],
   "source": [
    "regresion_lineal.score(X_test,y_test)"
   ]
  },
  {
   "cell_type": "code",
   "execution_count": 43,
   "metadata": {},
   "outputs": [
    {
     "data": {
      "text/plain": [
       "0.9827177687982668"
      ]
     },
     "execution_count": 43,
     "metadata": {},
     "output_type": "execute_result"
    }
   ],
   "source": [
    "from sklearn.metrics import  r2_score #r2_score \n",
    "r2_score(y_test,yhat)"
   ]
  },
  {
   "cell_type": "markdown",
   "metadata": {},
   "source": [
    "- CLUSTER 1:"
   ]
  },
  {
   "cell_type": "code",
   "execution_count": 33,
   "metadata": {},
   "outputs": [
    {
     "data": {
      "text/html": [
       "<div>\n",
       "<style scoped>\n",
       "    .dataframe tbody tr th:only-of-type {\n",
       "        vertical-align: middle;\n",
       "    }\n",
       "\n",
       "    .dataframe tbody tr th {\n",
       "        vertical-align: top;\n",
       "    }\n",
       "\n",
       "    .dataframe thead th {\n",
       "        text-align: right;\n",
       "    }\n",
       "</style>\n",
       "<table border=\"1\" class=\"dataframe\">\n",
       "  <thead>\n",
       "    <tr style=\"text-align: right;\">\n",
       "      <th></th>\n",
       "      <th>city</th>\n",
       "      <th>CO2</th>\n",
       "      <th>clase</th>\n",
       "    </tr>\n",
       "  </thead>\n",
       "  <tbody>\n",
       "    <tr>\n",
       "      <th>145</th>\n",
       "      <td>0.539062</td>\n",
       "      <td>0.373684</td>\n",
       "      <td>1</td>\n",
       "    </tr>\n",
       "    <tr>\n",
       "      <th>147</th>\n",
       "      <td>0.578125</td>\n",
       "      <td>0.410526</td>\n",
       "      <td>1</td>\n",
       "    </tr>\n",
       "    <tr>\n",
       "      <th>180</th>\n",
       "      <td>0.730469</td>\n",
       "      <td>0.563158</td>\n",
       "      <td>1</td>\n",
       "    </tr>\n",
       "    <tr>\n",
       "      <th>182</th>\n",
       "      <td>0.824219</td>\n",
       "      <td>0.647368</td>\n",
       "      <td>1</td>\n",
       "    </tr>\n",
       "    <tr>\n",
       "      <th>206</th>\n",
       "      <td>0.554688</td>\n",
       "      <td>0.397368</td>\n",
       "      <td>1</td>\n",
       "    </tr>\n",
       "    <tr>\n",
       "      <th>...</th>\n",
       "      <td>...</td>\n",
       "      <td>...</td>\n",
       "      <td>...</td>\n",
       "    </tr>\n",
       "    <tr>\n",
       "      <th>725</th>\n",
       "      <td>0.460938</td>\n",
       "      <td>0.305263</td>\n",
       "      <td>1</td>\n",
       "    </tr>\n",
       "    <tr>\n",
       "      <th>763</th>\n",
       "      <td>0.515625</td>\n",
       "      <td>0.389474</td>\n",
       "      <td>1</td>\n",
       "    </tr>\n",
       "    <tr>\n",
       "      <th>915</th>\n",
       "      <td>0.621094</td>\n",
       "      <td>0.465789</td>\n",
       "      <td>1</td>\n",
       "    </tr>\n",
       "    <tr>\n",
       "      <th>918</th>\n",
       "      <td>0.578125</td>\n",
       "      <td>0.423684</td>\n",
       "      <td>1</td>\n",
       "    </tr>\n",
       "    <tr>\n",
       "      <th>921</th>\n",
       "      <td>0.546875</td>\n",
       "      <td>0.384211</td>\n",
       "      <td>1</td>\n",
       "    </tr>\n",
       "  </tbody>\n",
       "</table>\n",
       "<p>83 rows × 3 columns</p>\n",
       "</div>"
      ],
      "text/plain": [
       "         city       CO2  clase\n",
       "145  0.539062  0.373684      1\n",
       "147  0.578125  0.410526      1\n",
       "180  0.730469  0.563158      1\n",
       "182  0.824219  0.647368      1\n",
       "206  0.554688  0.397368      1\n",
       "..        ...       ...    ...\n",
       "725  0.460938  0.305263      1\n",
       "763  0.515625  0.389474      1\n",
       "915  0.621094  0.465789      1\n",
       "918  0.578125  0.423684      1\n",
       "921  0.546875  0.384211      1\n",
       "\n",
       "[83 rows x 3 columns]"
      ]
     },
     "execution_count": 33,
     "metadata": {},
     "output_type": "execute_result"
    }
   ],
   "source": [
    "df_clase1=df[df[\"clase\"]==1]\n",
    "df_clase1"
   ]
  },
  {
   "cell_type": "code",
   "execution_count": 45,
   "metadata": {},
   "outputs": [
    {
     "data": {
      "text/plain": [
       "(83, 1)"
      ]
     },
     "execution_count": 45,
     "metadata": {},
     "output_type": "execute_result"
    }
   ],
   "source": [
    "X = df_clase1.city.values.reshape(83,1)\n",
    "y = df_clase1.CO2.values\n",
    "X.shape"
   ]
  },
  {
   "cell_type": "code",
   "execution_count": 46,
   "metadata": {},
   "outputs": [],
   "source": [
    "X_train, X_test, y_train, y_test = train_test_split(X, y, test_size=0.20)"
   ]
  },
  {
   "cell_type": "code",
   "execution_count": 47,
   "metadata": {},
   "outputs": [
    {
     "name": "stdout",
     "output_type": "stream",
     "text": [
      "w_1:  [1.03372014]\n",
      "w_0:  -0.17383492223745556\n"
     ]
    }
   ],
   "source": [
    "regresion_lineal = linear_model.LinearRegression()\n",
    "regresion_lineal.fit(X_train, y_train)\n",
    "\n",
    "# Encontramos los coeficientes de la recta  \n",
    "print ('w_1: ', regresion_lineal.coef_)\n",
    "print ('w_0: ',regresion_lineal.intercept_)"
   ]
  },
  {
   "cell_type": "code",
   "execution_count": 48,
   "metadata": {},
   "outputs": [
    {
     "data": {
      "text/plain": [
       "-0.17383492223745556"
      ]
     },
     "execution_count": 48,
     "metadata": {},
     "output_type": "execute_result"
    }
   ],
   "source": [
    "regresion_lineal.intercept_"
   ]
  },
  {
   "cell_type": "code",
   "execution_count": 49,
   "metadata": {},
   "outputs": [
    {
     "name": "stderr",
     "output_type": "stream",
     "text": [
      "/opt/anaconda3/lib/python3.8/site-packages/seaborn/_decorators.py:36: FutureWarning: Pass the following variables as keyword args: x, y. From version 0.12, the only valid positional argument will be `data`, and passing other arguments without an explicit keyword will result in an error or misinterpretation.\n",
      "  warnings.warn(\n",
      "/opt/anaconda3/lib/python3.8/site-packages/seaborn/_decorators.py:36: FutureWarning: Pass the following variables as keyword args: x, y. From version 0.12, the only valid positional argument will be `data`, and passing other arguments without an explicit keyword will result in an error or misinterpretation.\n",
      "  warnings.warn(\n"
     ]
    },
    {
     "data": {
      "image/png": "[encoded data removed]",
      "text/plain": [
       "<Figure size 432x288 with 1 Axes>"
      ]
     },
     "metadata": {
      "needs_background": "light"
     },
     "output_type": "display_data"
    }
   ],
   "source": [
    "sns.scatterplot(X_train.flatten(),y_train.flatten(), color=\"magenta\") \n",
    "#datos de prueba (green)\n",
    "sns.scatterplot(X_test.flatten(),y_test.flatten(), color=\"green\")  \n",
    "#regresión\n",
    "plt.plot(X_train, regresion_lineal.coef_[0]*X_train + regresion_lineal.intercept_, '-b')\n",
    "plt.show()"
   ]
  },
  {
   "cell_type": "code",
   "execution_count": 50,
   "metadata": {
    "collapsed": true,
    "jupyter": {
     "outputs_hidden": true
    }
   },
   "outputs": [
    {
     "name": "stdout",
     "output_type": "stream",
     "text": [
      "Predicción:  0.45608828706264337 Valor real:  0.4736842105263158\n",
      "Predicción:  0.5812653350645861 Valor real:  0.5631578947368421\n",
      "Predicción:  0.6054931508068976 Valor real:  0.6210526315789473\n",
      "Predicción:  0.47224016422418436 Valor real:  0.4526315789473684\n",
      "Predicción:  0.3995567169972498 Valor real:  0.3973684210526316\n",
      "Predicción:  0.5085818878376516 Valor real:  0.4894736842105263\n",
      "Predicción:  0.662024720872291 Valor real:  0.6684210526315789\n",
      "Predicción:  0.6499108130011353 Valor real:  0.6157894736842106\n",
      "Predicción:  0.31475936189915965 Valor real:  0.31842105263157894\n",
      "Predicción:  0.3995567169972498 Valor real:  0.41052631578947363\n",
      "Predicción:  0.40359468628763506 Valor real:  0.4236842105263158\n",
      "Predicción:  0.5005059492568811 Valor real:  0.47894736842105257\n",
      "Predicción:  0.7185562909376846 Valor real:  0.7210526315789474\n",
      "Predicción:  0.6095311200972828 Valor real:  0.5868421052631578\n",
      "Predicción:  0.4237845327395614 Valor real:  0.4236842105263158\n",
      "Predicción:  0.6054931508068976 Valor real:  0.6210526315789473\n",
      "Predicción:  0.30264545402800386 Valor real:  0.3052631578947368\n"
     ]
    }
   ],
   "source": [
    "yhat = regresion_lineal.predict(X_test)\n",
    "\n",
    "for i,j in zip(yhat,y_test):\n",
    "    print(\"Predicción: \",i, \"Valor real: \",j)"
   ]
  },
  {
   "cell_type": "code",
   "execution_count": 51,
   "metadata": {},
   "outputs": [
    {
     "data": {
      "text/plain": [
       "0.9804399148324052"
      ]
     },
     "execution_count": 51,
     "metadata": {},
     "output_type": "execute_result"
    }
   ],
   "source": [
    "regresion_lineal.score(X_test,y_test)"
   ]
  },
  {
   "cell_type": "markdown",
   "metadata": {},
   "source": [
    "# CLUSTER:"
   ]
  },
  {
   "cell_type": "code",
   "execution_count": 55,
   "metadata": {},
   "outputs": [],
   "source": [
    "Y=df[[\"FUELCONSUMPTION_HWY\",\"CO2EMISSIONS\"]]"
   ]
  },
  {
   "cell_type": "code",
   "execution_count": 56,
   "metadata": {},
   "outputs": [
    {
     "data": {
      "text/plain": [
       "(1067, 2)"
      ]
     },
     "execution_count": 56,
     "metadata": {},
     "output_type": "execute_result"
    }
   ],
   "source": [
    "Y = MinMaxScaler().fit_transform(Y)\n",
    "Y.shape"
   ]
  },
  {
   "cell_type": "code",
   "execution_count": 57,
   "metadata": {},
   "outputs": [],
   "source": [
    "neigh = NearestNeighbors(n_neighbors=2)\n",
    "nbrs = neigh.fit(Y)\n",
    "distances, indices = nbrs.kneighbors(Y)"
   ]
  },
  {
   "cell_type": "code",
   "execution_count": 58,
   "metadata": {},
   "outputs": [
    {
     "data": {
      "text/plain": [
       "[<matplotlib.lines.Line2D at 0x7fb4474c5430>]"
      ]
     },
     "execution_count": 58,
     "metadata": {},
     "output_type": "execute_result"
    },
    {
     "data": {
      "image/png": "[encoded data removed]",
      "text/plain": [
       "<Figure size 432x288 with 1 Axes>"
      ]
     },
     "metadata": {
      "needs_background": "light"
     },
     "output_type": "display_data"
    }
   ],
   "source": [
    "distances = np.sort(distances, axis=0)\n",
    "distances = distances[:,1]\n",
    "plt.plot(distances)"
   ]
  },
  {
   "cell_type": "code",
   "execution_count": 71,
   "metadata": {},
   "outputs": [
    {
     "data": {
      "text/plain": [
       "array([0, 0, 0, ..., 0, 0, 0])"
      ]
     },
     "execution_count": 71,
     "metadata": {},
     "output_type": "execute_result"
    }
   ],
   "source": [
    "epsilon = 0.07\n",
    "minimumSamples = 4\n",
    "db = DBSCAN(eps=epsilon, min_samples=minimumSamples).fit(Y)\n",
    "labels = db.labels_\n",
    "labels"
   ]
  },
  {
   "cell_type": "code",
   "execution_count": 72,
   "metadata": {},
   "outputs": [
    {
     "name": "stderr",
     "output_type": "stream",
     "text": [
      "/opt/anaconda3/lib/python3.8/site-packages/seaborn/_decorators.py:36: FutureWarning: Pass the following variables as keyword args: x, y. From version 0.12, the only valid positional argument will be `data`, and passing other arguments without an explicit keyword will result in an error or misinterpretation.\n",
      "  warnings.warn(\n"
     ]
    },
    {
     "data": {
      "image/png": "[encoded data removed]",
      "text/plain": [
       "<Figure size 576x432 with 1 Axes>"
      ]
     },
     "metadata": {
      "needs_background": "light"
     },
     "output_type": "display_data"
    }
   ],
   "source": [
    "df = pd.DataFrame()\n",
    "df[\"HWY\"]= Y[:,0]\n",
    "df[\"CO2\"] = Y[:,1]\n",
    "df[\"clase\"]=labels\n",
    "plt.figure(figsize=(8,6))\n",
    "sns.scatterplot(df[\"HWY\"],df[\"CO2\"],hue = df[\"clase\"], palette=\"Set2\")\n",
    "plt.show()"
   ]
  },
  {
   "cell_type": "code",
   "execution_count": null,
   "metadata": {},
   "outputs": [],
   "source": []
  }
 ],
 "metadata": {
  "kernelspec": {
   "display_name": "Python 3",
   "language": "python",
   "name": "python3"
  },
  "language_info": {
   "codemirror_mode": {
    "name": "ipython",
    "version": 3
   },
   "file_extension": ".py",
   "mimetype": "text/x-python",
   "name": "python",
   "nbconvert_exporter": "python",
   "pygments_lexer": "ipython3",
   "version": "3.8.5"
  }
 },
 "nbformat": 4,
 "nbformat_minor": 4
}
